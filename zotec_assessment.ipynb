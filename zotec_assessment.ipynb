{
 "cells": [
  {
   "cell_type": "markdown",
   "source": [
    "# Zotec Assessment"
   ],
   "metadata": {
    "collapsed": false,
    "pycharm": {
     "name": "#%% md\n"
    }
   }
  },
  {
   "cell_type": "code",
   "execution_count": 173,
   "outputs": [],
   "source": [
    "import pandas as pd\n",
    "from matplotlib import pyplot as plt\n",
    "import numpy as np"
   ],
   "metadata": {
    "collapsed": false,
    "pycharm": {
     "name": "#%%\n"
    }
   }
  },
  {
   "cell_type": "code",
   "execution_count": 174,
   "outputs": [
    {
     "data": {
      "text/plain": "   NDB_No               Shrt_Desc    Water  Energ_Kcal  Protein  Lipid_Tot  \\\n0    1001        BUTTER,WITH SALT  15.87 g         717     0.85      81.11   \n1    1002  BUTTER,WHIPPED,W/ SALT  16.72 g         718     0.49      78.30   \n2    1003    BUTTER OIL,ANHYDROUS   0.24 g         876     0.28      99.48   \n3    1004             CHEESE,BLUE  42.41 g         353    21.40      28.74   \n4    1005            CHEESE,BRICK  41.11 g         371    23.24      29.68   \n\n    Ash  Carbohydrt  Fiber_TD  Sugar_Tot  ...  Vit_D_IU  Vit_K  FA_Sat  \\\n0  2.11        0.06       0.0       0.06  ...       0.0    7.0  51.368   \n1  1.62        2.87       0.0       0.06  ...       0.0    4.6  45.390   \n2  0.00        0.00       0.0       0.00  ...       0.0    8.6  61.924   \n3  5.11        2.34       0.0       0.50  ...      21.0    2.4  18.669   \n4  3.18        2.79       0.0       0.51  ...      22.0    2.5  18.764   \n\n   FA_Mono  FA_Poly  Cholestrl  GmWt_1                  GmWt_Desc1  GmWt_2  \\\n0   21.021    3.043      215.0    5.00  1 pat,  (1\" sq, 1/3\" high)    14.2   \n1   19.874    3.331      225.0    3.80  1 pat,  (1\" sq, 1/3\" high)     9.4   \n2   28.732    3.694      256.0   12.80                      1 tbsp   205.0   \n3    7.778    0.800       75.0   28.35                        1 oz    17.0   \n4    8.598    0.784       94.0  132.00                1 cup, diced   113.0   \n\n        GmWt_Desc2  \n0           1 tbsp  \n1           1 tbsp  \n2            1 cup  \n3     1 cubic inch  \n4  1 cup, shredded  \n\n[5 rows x 52 columns]",
      "text/html": "<div>\n<style scoped>\n    .dataframe tbody tr th:only-of-type {\n        vertical-align: middle;\n    }\n\n    .dataframe tbody tr th {\n        vertical-align: top;\n    }\n\n    .dataframe thead th {\n        text-align: right;\n    }\n</style>\n<table border=\"1\" class=\"dataframe\">\n  <thead>\n    <tr style=\"text-align: right;\">\n      <th></th>\n      <th>NDB_No</th>\n      <th>Shrt_Desc</th>\n      <th>Water</th>\n      <th>Energ_Kcal</th>\n      <th>Protein</th>\n      <th>Lipid_Tot</th>\n      <th>Ash</th>\n      <th>Carbohydrt</th>\n      <th>Fiber_TD</th>\n      <th>Sugar_Tot</th>\n      <th>...</th>\n      <th>Vit_D_IU</th>\n      <th>Vit_K</th>\n      <th>FA_Sat</th>\n      <th>FA_Mono</th>\n      <th>FA_Poly</th>\n      <th>Cholestrl</th>\n      <th>GmWt_1</th>\n      <th>GmWt_Desc1</th>\n      <th>GmWt_2</th>\n      <th>GmWt_Desc2</th>\n    </tr>\n  </thead>\n  <tbody>\n    <tr>\n      <th>0</th>\n      <td>1001</td>\n      <td>BUTTER,WITH SALT</td>\n      <td>15.87 g</td>\n      <td>717</td>\n      <td>0.85</td>\n      <td>81.11</td>\n      <td>2.11</td>\n      <td>0.06</td>\n      <td>0.0</td>\n      <td>0.06</td>\n      <td>...</td>\n      <td>0.0</td>\n      <td>7.0</td>\n      <td>51.368</td>\n      <td>21.021</td>\n      <td>3.043</td>\n      <td>215.0</td>\n      <td>5.00</td>\n      <td>1 pat,  (1\" sq, 1/3\" high)</td>\n      <td>14.2</td>\n      <td>1 tbsp</td>\n    </tr>\n    <tr>\n      <th>1</th>\n      <td>1002</td>\n      <td>BUTTER,WHIPPED,W/ SALT</td>\n      <td>16.72 g</td>\n      <td>718</td>\n      <td>0.49</td>\n      <td>78.30</td>\n      <td>1.62</td>\n      <td>2.87</td>\n      <td>0.0</td>\n      <td>0.06</td>\n      <td>...</td>\n      <td>0.0</td>\n      <td>4.6</td>\n      <td>45.390</td>\n      <td>19.874</td>\n      <td>3.331</td>\n      <td>225.0</td>\n      <td>3.80</td>\n      <td>1 pat,  (1\" sq, 1/3\" high)</td>\n      <td>9.4</td>\n      <td>1 tbsp</td>\n    </tr>\n    <tr>\n      <th>2</th>\n      <td>1003</td>\n      <td>BUTTER OIL,ANHYDROUS</td>\n      <td>0.24 g</td>\n      <td>876</td>\n      <td>0.28</td>\n      <td>99.48</td>\n      <td>0.00</td>\n      <td>0.00</td>\n      <td>0.0</td>\n      <td>0.00</td>\n      <td>...</td>\n      <td>0.0</td>\n      <td>8.6</td>\n      <td>61.924</td>\n      <td>28.732</td>\n      <td>3.694</td>\n      <td>256.0</td>\n      <td>12.80</td>\n      <td>1 tbsp</td>\n      <td>205.0</td>\n      <td>1 cup</td>\n    </tr>\n    <tr>\n      <th>3</th>\n      <td>1004</td>\n      <td>CHEESE,BLUE</td>\n      <td>42.41 g</td>\n      <td>353</td>\n      <td>21.40</td>\n      <td>28.74</td>\n      <td>5.11</td>\n      <td>2.34</td>\n      <td>0.0</td>\n      <td>0.50</td>\n      <td>...</td>\n      <td>21.0</td>\n      <td>2.4</td>\n      <td>18.669</td>\n      <td>7.778</td>\n      <td>0.800</td>\n      <td>75.0</td>\n      <td>28.35</td>\n      <td>1 oz</td>\n      <td>17.0</td>\n      <td>1 cubic inch</td>\n    </tr>\n    <tr>\n      <th>4</th>\n      <td>1005</td>\n      <td>CHEESE,BRICK</td>\n      <td>41.11 g</td>\n      <td>371</td>\n      <td>23.24</td>\n      <td>29.68</td>\n      <td>3.18</td>\n      <td>2.79</td>\n      <td>0.0</td>\n      <td>0.51</td>\n      <td>...</td>\n      <td>22.0</td>\n      <td>2.5</td>\n      <td>18.764</td>\n      <td>8.598</td>\n      <td>0.784</td>\n      <td>94.0</td>\n      <td>132.00</td>\n      <td>1 cup, diced</td>\n      <td>113.0</td>\n      <td>1 cup, shredded</td>\n    </tr>\n  </tbody>\n</table>\n<p>5 rows × 52 columns</p>\n</div>"
     },
     "execution_count": 174,
     "metadata": {},
     "output_type": "execute_result"
    }
   ],
   "source": [
    "# Read csv file into dataframe and print first 5 rows\n",
    "df = pd.read_csv('NutritionData.csv', encoding_errors='ignore')\n",
    "df.head()"
   ],
   "metadata": {
    "collapsed": false,
    "pycharm": {
     "name": "#%%\n"
    }
   }
  },
  {
   "cell_type": "code",
   "execution_count": 175,
   "outputs": [
    {
     "data": {
      "text/plain": "NDB_No            0\nShrt_Desc         0\nWater             0\nEnerg_Kcal        0\nProtein           0\nLipid_Tot         0\nAsh             325\nCarbohydrt        0\nFiber_TD        594\nSugar_Tot      1832\nCalcium         348\nIron            144\nMagnesium       739\nPhosphorus      579\nPotassium       426\nSodium           83\nZinc            706\nCopper         1257\nManganese      2160\nSelenium       1700\nVit_C           818\nThiamin         634\nRiboflavin      616\nNiacin          637\nPanto_Acid     2242\nVit_B6          905\nFolate_Tot     1261\nFolic_Acid     2039\nFood_Folate    1768\nFolate_DFE     2057\nCholine_Tot    4016\nVit_B12        1193\nVit_A_IU        711\nVit_A_RAE      1535\nRetinol        1806\nAlpha_Carot    3258\nBeta_Carot     3162\nBeta_Crypt     3270\nLycopene       3292\nLut+Zea        3315\nVit_E          2889\nVit_D          3262\nVit_D_IU       3211\nVit_K          3563\nFA_Sat          349\nFA_Mono         666\nFA_Poly         665\nCholestrl       410\nGmWt_1          300\nGmWt_Desc1      299\nGmWt_2         3965\nGmWt_Desc2     3965\ndtype: int64"
     },
     "execution_count": 175,
     "metadata": {},
     "output_type": "execute_result"
    }
   ],
   "source": [
    "df.isnull().sum()"
   ],
   "metadata": {
    "collapsed": false,
    "pycharm": {
     "name": "#%%\n"
    }
   }
  },
  {
   "cell_type": "code",
   "execution_count": 176,
   "outputs": [
    {
     "data": {
      "text/plain": "NDB_No           int64\nShrt_Desc       object\nWater           object\nEnerg_Kcal       int64\nProtein        float64\nLipid_Tot      float64\nAsh            float64\nCarbohydrt     float64\nFiber_TD       float64\nSugar_Tot      float64\nCalcium        float64\nIron           float64\nMagnesium      float64\nPhosphorus     float64\nPotassium      float64\nSodium         float64\nZinc           float64\nCopper         float64\nManganese      float64\nSelenium       float64\nVit_C          float64\nThiamin        float64\nRiboflavin     float64\nNiacin         float64\nPanto_Acid     float64\nVit_B6         float64\nFolate_Tot     float64\nFolic_Acid     float64\nFood_Folate    float64\nFolate_DFE     float64\nCholine_Tot    float64\nVit_B12        float64\nVit_A_IU       float64\nVit_A_RAE      float64\nRetinol        float64\nAlpha_Carot    float64\nBeta_Carot     float64\nBeta_Crypt     float64\nLycopene       float64\nLut+Zea        float64\nVit_E          float64\nVit_D          float64\nVit_D_IU       float64\nVit_K          float64\nFA_Sat         float64\nFA_Mono        float64\nFA_Poly        float64\nCholestrl      float64\nGmWt_1         float64\nGmWt_Desc1      object\nGmWt_2         float64\nGmWt_Desc2      object\ndtype: object"
     },
     "execution_count": 176,
     "metadata": {},
     "output_type": "execute_result"
    }
   ],
   "source": [
    "df.dtypes"
   ],
   "metadata": {
    "collapsed": false,
    "pycharm": {
     "name": "#%%\n"
    }
   }
  },
  {
   "cell_type": "code",
   "execution_count": 177,
   "outputs": [],
   "source": [
    "columns_chosen = []\n",
    "\n",
    "for col in df:\n",
    "    if df[col].dtype in ['int64', 'float64']:\n",
    "        columns_chosen.append(col)\n",
    "    else:\n",
    "        pass"
   ],
   "metadata": {
    "collapsed": false,
    "pycharm": {
     "name": "#%%\n"
    }
   }
  },
  {
   "cell_type": "code",
   "execution_count": 178,
   "outputs": [],
   "source": [
    "pd.set_option('mode.chained_assignment',None)\n",
    "df_chosen = df[columns_chosen]\n",
    "\n",
    "for col in df_chosen:\n",
    "    df_chosen[col] = df_chosen[col].fillna(0)"
   ],
   "metadata": {
    "collapsed": false,
    "pycharm": {
     "name": "#%%\n"
    }
   }
  },
  {
   "cell_type": "code",
   "execution_count": 179,
   "outputs": [
    {
     "data": {
      "text/plain": "NDB_No         0\nEnerg_Kcal     0\nProtein        0\nLipid_Tot      0\nAsh            0\nCarbohydrt     0\nFiber_TD       0\nSugar_Tot      0\nCalcium        0\nIron           0\nMagnesium      0\nPhosphorus     0\nPotassium      0\nSodium         0\nZinc           0\nCopper         0\nManganese      0\nSelenium       0\nVit_C          0\nThiamin        0\nRiboflavin     0\nNiacin         0\nPanto_Acid     0\nVit_B6         0\nFolate_Tot     0\nFolic_Acid     0\nFood_Folate    0\nFolate_DFE     0\nCholine_Tot    0\nVit_B12        0\nVit_A_IU       0\nVit_A_RAE      0\nRetinol        0\nAlpha_Carot    0\nBeta_Carot     0\nBeta_Crypt     0\nLycopene       0\nLut+Zea        0\nVit_E          0\nVit_D          0\nVit_D_IU       0\nVit_K          0\nFA_Sat         0\nFA_Mono        0\nFA_Poly        0\nCholestrl      0\nGmWt_1         0\nGmWt_2         0\ndtype: int64"
     },
     "execution_count": 179,
     "metadata": {},
     "output_type": "execute_result"
    }
   ],
   "source": [
    "df_chosen.isnull().sum()"
   ],
   "metadata": {
    "collapsed": false,
    "pycharm": {
     "name": "#%%\n"
    }
   }
  },
  {
   "cell_type": "code",
   "execution_count": 180,
   "outputs": [],
   "source": [
    "df_chosen_x = df_chosen.drop(labels=['Energ_Kcal', 'NDB_No'], axis=1)\n",
    "df_chosen_y = df_chosen['Energ_Kcal']"
   ],
   "metadata": {
    "collapsed": false,
    "pycharm": {
     "name": "#%%\n"
    }
   }
  },
  {
   "cell_type": "markdown",
   "source": [
    "# Initial XGBoost Regression Model (Only Null Values Changed)"
   ],
   "metadata": {
    "collapsed": false,
    "pycharm": {
     "name": "#%% md\n"
    }
   }
  },
  {
   "cell_type": "code",
   "execution_count": 181,
   "outputs": [],
   "source": [
    "import xgboost as xgb\n",
    "from sklearn.model_selection import train_test_split"
   ],
   "metadata": {
    "collapsed": false,
    "pycharm": {
     "name": "#%%\n"
    }
   }
  },
  {
   "cell_type": "code",
   "execution_count": 182,
   "outputs": [],
   "source": [
    "from sklearn import preprocessing\n",
    "\n",
    "# Prepare data for mode\n",
    "def prepareData(x_data, y_data):\n",
    "    x = x_data.values\n",
    "    # X_norm = preprocessing.StandardScaler().fit(x).transform(x.astype(float))\n",
    "\n",
    "    y = pd.DataFrame(y_data)\n",
    "    y = y.values\n",
    "    # y_norm = preprocessing.StandardScaler().fit(y).transform(y.astype(float))\n",
    "    return x, y\n",
    "\n",
    "[X, y] = prepareData(df_chosen_x, df_chosen_y)"
   ],
   "metadata": {
    "collapsed": false,
    "pycharm": {
     "name": "#%%\n"
    }
   }
  },
  {
   "cell_type": "code",
   "execution_count": 183,
   "outputs": [],
   "source": [
    "# Split data into train and test set\n",
    "X_train, X_test, y_train, y_test = train_test_split(X, y, test_size=0.3, random_state=0)\n",
    "\n",
    "model = xgb.XGBRegressor()"
   ],
   "metadata": {
    "collapsed": false,
    "pycharm": {
     "name": "#%%\n"
    }
   }
  },
  {
   "cell_type": "code",
   "execution_count": 184,
   "outputs": [
    {
     "name": "stdout",
     "output_type": "stream",
     "text": [
      "[0]\tvalidation_0-rmse:199.16707\n",
      "[1]\tvalidation_0-rmse:141.06759\n",
      "[2]\tvalidation_0-rmse:100.24550\n",
      "[3]\tvalidation_0-rmse:71.75613\n",
      "[4]\tvalidation_0-rmse:51.99379\n",
      "[5]\tvalidation_0-rmse:38.42364\n",
      "[6]\tvalidation_0-rmse:28.85692\n",
      "[7]\tvalidation_0-rmse:22.32591\n",
      "[8]\tvalidation_0-rmse:17.90768\n",
      "[9]\tvalidation_0-rmse:15.14564\n",
      "[10]\tvalidation_0-rmse:13.17146\n",
      "[11]\tvalidation_0-rmse:11.94791\n",
      "[12]\tvalidation_0-rmse:11.02854\n",
      "[13]\tvalidation_0-rmse:10.36547\n",
      "[14]\tvalidation_0-rmse:9.83065\n",
      "[15]\tvalidation_0-rmse:9.52378\n",
      "[16]\tvalidation_0-rmse:8.98272\n",
      "[17]\tvalidation_0-rmse:8.85166\n",
      "[18]\tvalidation_0-rmse:8.58288\n",
      "[19]\tvalidation_0-rmse:8.41767\n",
      "[20]\tvalidation_0-rmse:8.21325\n",
      "[21]\tvalidation_0-rmse:8.00720\n",
      "[22]\tvalidation_0-rmse:7.97154\n",
      "[23]\tvalidation_0-rmse:7.86185\n",
      "[24]\tvalidation_0-rmse:7.79542\n",
      "[25]\tvalidation_0-rmse:7.67217\n",
      "[26]\tvalidation_0-rmse:7.44513\n",
      "[27]\tvalidation_0-rmse:7.29430\n",
      "[28]\tvalidation_0-rmse:7.17318\n",
      "[29]\tvalidation_0-rmse:7.07893\n",
      "[30]\tvalidation_0-rmse:7.01011\n",
      "[31]\tvalidation_0-rmse:6.83418\n",
      "[32]\tvalidation_0-rmse:6.64999\n",
      "[33]\tvalidation_0-rmse:6.50263\n",
      "[34]\tvalidation_0-rmse:6.46880\n",
      "[35]\tvalidation_0-rmse:6.37626\n",
      "[36]\tvalidation_0-rmse:6.29086\n",
      "[37]\tvalidation_0-rmse:6.08984\n",
      "[38]\tvalidation_0-rmse:6.00386\n",
      "[39]\tvalidation_0-rmse:5.92594\n",
      "[40]\tvalidation_0-rmse:5.83889\n",
      "[41]\tvalidation_0-rmse:5.81429\n",
      "[42]\tvalidation_0-rmse:5.70748\n",
      "[43]\tvalidation_0-rmse:5.57353\n",
      "[44]\tvalidation_0-rmse:5.53304\n",
      "[45]\tvalidation_0-rmse:5.47086\n",
      "[46]\tvalidation_0-rmse:5.35930\n",
      "[47]\tvalidation_0-rmse:5.25044\n",
      "[48]\tvalidation_0-rmse:5.21234\n",
      "[49]\tvalidation_0-rmse:5.08947\n",
      "[50]\tvalidation_0-rmse:5.01322\n",
      "[51]\tvalidation_0-rmse:4.98425\n",
      "[52]\tvalidation_0-rmse:4.94016\n",
      "[53]\tvalidation_0-rmse:4.85532\n",
      "[54]\tvalidation_0-rmse:4.75023\n",
      "[55]\tvalidation_0-rmse:4.72357\n",
      "[56]\tvalidation_0-rmse:4.66783\n",
      "[57]\tvalidation_0-rmse:4.60560\n",
      "[58]\tvalidation_0-rmse:4.54981\n",
      "[59]\tvalidation_0-rmse:4.50426\n",
      "[60]\tvalidation_0-rmse:4.47641\n",
      "[61]\tvalidation_0-rmse:4.43965\n",
      "[62]\tvalidation_0-rmse:4.41607\n",
      "[63]\tvalidation_0-rmse:4.39897\n",
      "[64]\tvalidation_0-rmse:4.34338\n",
      "[65]\tvalidation_0-rmse:4.28415\n",
      "[66]\tvalidation_0-rmse:4.18683\n",
      "[67]\tvalidation_0-rmse:4.11784\n",
      "[68]\tvalidation_0-rmse:4.07049\n",
      "[69]\tvalidation_0-rmse:4.03968\n",
      "[70]\tvalidation_0-rmse:3.96853\n",
      "[71]\tvalidation_0-rmse:3.90381\n",
      "[72]\tvalidation_0-rmse:3.88278\n",
      "[73]\tvalidation_0-rmse:3.86227\n",
      "[74]\tvalidation_0-rmse:3.81726\n",
      "[75]\tvalidation_0-rmse:3.79547\n",
      "[76]\tvalidation_0-rmse:3.77124\n",
      "[77]\tvalidation_0-rmse:3.71429\n",
      "[78]\tvalidation_0-rmse:3.70105\n",
      "[79]\tvalidation_0-rmse:3.67229\n",
      "[80]\tvalidation_0-rmse:3.64379\n",
      "[81]\tvalidation_0-rmse:3.61918\n",
      "[82]\tvalidation_0-rmse:3.58592\n",
      "[83]\tvalidation_0-rmse:3.56569\n",
      "[84]\tvalidation_0-rmse:3.55409\n",
      "[85]\tvalidation_0-rmse:3.52035\n",
      "[86]\tvalidation_0-rmse:3.49564\n",
      "[87]\tvalidation_0-rmse:3.44367\n",
      "[88]\tvalidation_0-rmse:3.39397\n",
      "[89]\tvalidation_0-rmse:3.33898\n",
      "[90]\tvalidation_0-rmse:3.30409\n",
      "[91]\tvalidation_0-rmse:3.28192\n",
      "[92]\tvalidation_0-rmse:3.25182\n",
      "[93]\tvalidation_0-rmse:3.22554\n",
      "[94]\tvalidation_0-rmse:3.18530\n",
      "[95]\tvalidation_0-rmse:3.17862\n",
      "[96]\tvalidation_0-rmse:3.14726\n",
      "[97]\tvalidation_0-rmse:3.08957\n",
      "[98]\tvalidation_0-rmse:3.05915\n",
      "[99]\tvalidation_0-rmse:3.03477\n"
     ]
    },
    {
     "data": {
      "text/plain": "XGBRegressor(base_score=0.5, booster='gbtree', callbacks=None,\n             colsample_bylevel=1, colsample_bynode=1, colsample_bytree=1,\n             early_stopping_rounds=None, enable_categorical=False,\n             eval_metric=None, gamma=0, gpu_id=-1, grow_policy='depthwise',\n             importance_type=None, interaction_constraints='',\n             learning_rate=0.300000012, max_bin=256, max_cat_to_onehot=4,\n             max_delta_step=0, max_depth=6, max_leaves=0, min_child_weight=1,\n             missing=nan, monotone_constraints='()', n_estimators=100, n_jobs=0,\n             num_parallel_tree=1, predictor='auto', random_state=0, reg_alpha=0,\n             reg_lambda=1, ...)",
      "text/html": "<style>#sk-container-id-5 {color: black;background-color: white;}#sk-container-id-5 pre{padding: 0;}#sk-container-id-5 div.sk-toggleable {background-color: white;}#sk-container-id-5 label.sk-toggleable__label {cursor: pointer;display: block;width: 100%;margin-bottom: 0;padding: 0.3em;box-sizing: border-box;text-align: center;}#sk-container-id-5 label.sk-toggleable__label-arrow:before {content: \"▸\";float: left;margin-right: 0.25em;color: #696969;}#sk-container-id-5 label.sk-toggleable__label-arrow:hover:before {color: black;}#sk-container-id-5 div.sk-estimator:hover label.sk-toggleable__label-arrow:before {color: black;}#sk-container-id-5 div.sk-toggleable__content {max-height: 0;max-width: 0;overflow: hidden;text-align: left;background-color: #f0f8ff;}#sk-container-id-5 div.sk-toggleable__content pre {margin: 0.2em;color: black;border-radius: 0.25em;background-color: #f0f8ff;}#sk-container-id-5 input.sk-toggleable__control:checked~div.sk-toggleable__content {max-height: 200px;max-width: 100%;overflow: auto;}#sk-container-id-5 input.sk-toggleable__control:checked~label.sk-toggleable__label-arrow:before {content: \"▾\";}#sk-container-id-5 div.sk-estimator input.sk-toggleable__control:checked~label.sk-toggleable__label {background-color: #d4ebff;}#sk-container-id-5 div.sk-label input.sk-toggleable__control:checked~label.sk-toggleable__label {background-color: #d4ebff;}#sk-container-id-5 input.sk-hidden--visually {border: 0;clip: rect(1px 1px 1px 1px);clip: rect(1px, 1px, 1px, 1px);height: 1px;margin: -1px;overflow: hidden;padding: 0;position: absolute;width: 1px;}#sk-container-id-5 div.sk-estimator {font-family: monospace;background-color: #f0f8ff;border: 1px dotted black;border-radius: 0.25em;box-sizing: border-box;margin-bottom: 0.5em;}#sk-container-id-5 div.sk-estimator:hover {background-color: #d4ebff;}#sk-container-id-5 div.sk-parallel-item::after {content: \"\";width: 100%;border-bottom: 1px solid gray;flex-grow: 1;}#sk-container-id-5 div.sk-label:hover label.sk-toggleable__label {background-color: #d4ebff;}#sk-container-id-5 div.sk-serial::before {content: \"\";position: absolute;border-left: 1px solid gray;box-sizing: border-box;top: 0;bottom: 0;left: 50%;z-index: 0;}#sk-container-id-5 div.sk-serial {display: flex;flex-direction: column;align-items: center;background-color: white;padding-right: 0.2em;padding-left: 0.2em;position: relative;}#sk-container-id-5 div.sk-item {position: relative;z-index: 1;}#sk-container-id-5 div.sk-parallel {display: flex;align-items: stretch;justify-content: center;background-color: white;position: relative;}#sk-container-id-5 div.sk-item::before, #sk-container-id-5 div.sk-parallel-item::before {content: \"\";position: absolute;border-left: 1px solid gray;box-sizing: border-box;top: 0;bottom: 0;left: 50%;z-index: -1;}#sk-container-id-5 div.sk-parallel-item {display: flex;flex-direction: column;z-index: 1;position: relative;background-color: white;}#sk-container-id-5 div.sk-parallel-item:first-child::after {align-self: flex-end;width: 50%;}#sk-container-id-5 div.sk-parallel-item:last-child::after {align-self: flex-start;width: 50%;}#sk-container-id-5 div.sk-parallel-item:only-child::after {width: 0;}#sk-container-id-5 div.sk-dashed-wrapped {border: 1px dashed gray;margin: 0 0.4em 0.5em 0.4em;box-sizing: border-box;padding-bottom: 0.4em;background-color: white;}#sk-container-id-5 div.sk-label label {font-family: monospace;font-weight: bold;display: inline-block;line-height: 1.2em;}#sk-container-id-5 div.sk-label-container {text-align: center;}#sk-container-id-5 div.sk-container {/* jupyter's `normalize.less` sets `[hidden] { display: none; }` but bootstrap.min.css set `[hidden] { display: none !important; }` so we also need the `!important` here to be able to override the default hidden behavior on the sphinx rendered scikit-learn.org. See: https://github.com/scikit-learn/scikit-learn/issues/21755 */display: inline-block !important;position: relative;}#sk-container-id-5 div.sk-text-repr-fallback {display: none;}</style><div id=\"sk-container-id-5\" class=\"sk-top-container\"><div class=\"sk-text-repr-fallback\"><pre>XGBRegressor(base_score=0.5, booster=&#x27;gbtree&#x27;, callbacks=None,\n             colsample_bylevel=1, colsample_bynode=1, colsample_bytree=1,\n             early_stopping_rounds=None, enable_categorical=False,\n             eval_metric=None, gamma=0, gpu_id=-1, grow_policy=&#x27;depthwise&#x27;,\n             importance_type=None, interaction_constraints=&#x27;&#x27;,\n             learning_rate=0.300000012, max_bin=256, max_cat_to_onehot=4,\n             max_delta_step=0, max_depth=6, max_leaves=0, min_child_weight=1,\n             missing=nan, monotone_constraints=&#x27;()&#x27;, n_estimators=100, n_jobs=0,\n             num_parallel_tree=1, predictor=&#x27;auto&#x27;, random_state=0, reg_alpha=0,\n             reg_lambda=1, ...)</pre><b>In a Jupyter environment, please rerun this cell to show the HTML representation or trust the notebook. <br />On GitHub, the HTML representation is unable to render, please try loading this page with nbviewer.org.</b></div><div class=\"sk-container\" hidden><div class=\"sk-item\"><div class=\"sk-estimator sk-toggleable\"><input class=\"sk-toggleable__control sk-hidden--visually\" id=\"sk-estimator-id-5\" type=\"checkbox\" checked><label for=\"sk-estimator-id-5\" class=\"sk-toggleable__label sk-toggleable__label-arrow\">XGBRegressor</label><div class=\"sk-toggleable__content\"><pre>XGBRegressor(base_score=0.5, booster=&#x27;gbtree&#x27;, callbacks=None,\n             colsample_bylevel=1, colsample_bynode=1, colsample_bytree=1,\n             early_stopping_rounds=None, enable_categorical=False,\n             eval_metric=None, gamma=0, gpu_id=-1, grow_policy=&#x27;depthwise&#x27;,\n             importance_type=None, interaction_constraints=&#x27;&#x27;,\n             learning_rate=0.300000012, max_bin=256, max_cat_to_onehot=4,\n             max_delta_step=0, max_depth=6, max_leaves=0, min_child_weight=1,\n             missing=nan, monotone_constraints=&#x27;()&#x27;, n_estimators=100, n_jobs=0,\n             num_parallel_tree=1, predictor=&#x27;auto&#x27;, random_state=0, reg_alpha=0,\n             reg_lambda=1, ...)</pre></div></div></div></div></div>"
     },
     "execution_count": 184,
     "metadata": {},
     "output_type": "execute_result"
    }
   ],
   "source": [
    "model.fit(X_train, y_train, eval_set=[(X_train, y_train)])"
   ],
   "metadata": {
    "collapsed": false,
    "pycharm": {
     "name": "#%%\n"
    }
   }
  },
  {
   "cell_type": "code",
   "execution_count": 185,
   "outputs": [
    {
     "name": "stdout",
     "output_type": "stream",
     "text": [
      "Mean Square Error: 153.38228288024627\n",
      "Root Mean Square Error: 12.384760105881998\n",
      "R Squared: 0.9946627141834498\n"
     ]
    }
   ],
   "source": [
    "from sklearn.metrics import mean_squared_error\n",
    "from sklearn.metrics import r2_score\n",
    "import math\n",
    "\n",
    "yhat = model.predict(X_test)\n",
    "\n",
    "MSE = mean_squared_error(y_test, yhat)\n",
    "RMSE = math.sqrt(MSE)\n",
    "R2 = r2_score(y_test, yhat)\n",
    "\n",
    "print(\"Mean Square Error: {}\\nRoot Mean Square Error: {}\\nR Squared: {}\".format(MSE, RMSE,R2))"
   ],
   "metadata": {
    "collapsed": false,
    "pycharm": {
     "name": "#%%\n"
    }
   }
  },
  {
   "cell_type": "markdown",
   "source": [
    "# Feature Importance (Initial Model)"
   ],
   "metadata": {
    "collapsed": false,
    "pycharm": {
     "name": "#%% md\n"
    }
   }
  },
  {
   "cell_type": "code",
   "execution_count": 186,
   "outputs": [
    {
     "data": {
      "text/plain": "<Figure size 1490.4x1459.44 with 1 Axes>",
      "image/png": "[encoded data removed]"
     },
     "metadata": {},
     "output_type": "display_data"
    }
   ],
   "source": [
    "import seaborn as sns\n",
    "from sklearn.feature_selection import SelectKBest\n",
    "from sklearn.feature_selection import mutual_info_regression\n",
    "\n",
    "labels = [col for col in df_chosen_x]\n",
    "importance = list(model.feature_importances_)\n",
    "\n",
    "y_train = np.ravel(y_train)\n",
    "\n",
    "fs = SelectKBest(score_func=mutual_info_regression, k='all')\n",
    "fs.fit(X_train, y_train)\n",
    "\n",
    "df_importance = pd.DataFrame({'labels': labels, 'importance': fs.scores_})\n",
    "df_importance_sorted = df_importance.sort_values(by='importance', ascending=False)\n",
    "\n",
    "ax=sns.barplot(x='importance', y='labels', data=df_importance_sorted, orient='h')\n",
    "ax.bar_label(container=ax.containers[0], fmt='%1.5f', label_type='edge', padding=5)\n",
    "sns.set(rc={'figure.figsize':(20.7, 20.27)})\n",
    "plt.title('Features Ranked by Importance to Initial Regression Model')\n",
    "plt.xlabel('Importance Score')\n",
    "plt.ylabel('Feature')\n",
    "plt.show()"
   ],
   "metadata": {
    "collapsed": false,
    "pycharm": {
     "name": "#%%\n"
    }
   }
  },
  {
   "cell_type": "markdown",
   "source": [
    "# Feature Engineering"
   ],
   "metadata": {
    "collapsed": false,
    "pycharm": {
     "name": "#%% md\n"
    }
   }
  },
  {
   "cell_type": "code",
   "execution_count": 187,
   "outputs": [],
   "source": [
    "split_desc = df['Shrt_Desc'].str.split(',')\n",
    "\n",
    "category = []\n",
    "for split in split_desc:\n",
    "    category.append(split[0])"
   ],
   "metadata": {
    "collapsed": false,
    "pycharm": {
     "name": "#%%\n"
    }
   }
  },
  {
   "cell_type": "code",
   "execution_count": 188,
   "outputs": [],
   "source": [
    "df_eng = df"
   ],
   "metadata": {
    "collapsed": false,
    "pycharm": {
     "name": "#%%\n"
    }
   }
  },
  {
   "cell_type": "code",
   "execution_count": 189,
   "outputs": [],
   "source": [
    "df_eng['Desc_Cat'] = category\n",
    "df_eng['Desc_Cat'] = df_eng['Desc_Cat'].astype(\"category\")"
   ],
   "metadata": {
    "collapsed": false,
    "pycharm": {
     "name": "#%%\n"
    }
   }
  },
  {
   "cell_type": "code",
   "execution_count": 190,
   "outputs": [],
   "source": [
    "split_water = df_eng['Water'].str.split(' ')\n",
    "\n",
    "water_g = []\n",
    "for split in split_water:\n",
    "    water_g.append(split[0])\n",
    "\n",
    "water_g[1941]\n",
    "df_eng['Water_Flt'] = water_g\n",
    "\n",
    "df_eng = df_eng[df_eng['NDB_No']!=8370]\n",
    "\n",
    "df_eng['Water_Flt'] = df_eng['Water_Flt'].astype('float')"
   ],
   "metadata": {
    "collapsed": false,
    "pycharm": {
     "name": "#%%\n"
    }
   }
  },
  {
   "cell_type": "markdown",
   "source": [
    "# Truly Dealing with Null Data"
   ],
   "metadata": {
    "collapsed": false,
    "pycharm": {
     "name": "#%% md\n"
    }
   }
  },
  {
   "cell_type": "code",
   "execution_count": 191,
   "outputs": [],
   "source": [
    "df_eng = df_eng.drop(labels=['NDB_No', 'Shrt_Desc', 'Water', 'GmWt_Desc1', 'GmWt_1', 'GmWt_Desc2', 'GmWt_2'], axis=1)"
   ],
   "metadata": {
    "collapsed": false,
    "pycharm": {
     "name": "#%%\n"
    }
   }
  },
  {
   "cell_type": "code",
   "execution_count": 192,
   "outputs": [],
   "source": [
    "df_eng_null = df_eng.isnull().sum()\n",
    "high_null_list = df_eng_null[df_eng.isnull().sum()>2000].index"
   ],
   "metadata": {
    "collapsed": false,
    "pycharm": {
     "name": "#%%\n"
    }
   }
  },
  {
   "cell_type": "code",
   "execution_count": 193,
   "outputs": [],
   "source": [
    "col = []\n",
    "zeros = []\n",
    "\n",
    "for column in high_null_list:\n",
    "    try:\n",
    "        zeros_count = df_eng[column].value_counts().loc[0.0]\n",
    "        zeros.append(zeros_count)\n",
    "        col.append(column)\n",
    "    except:\n",
    "        pass\n",
    "\n",
    "df_zeros_high = pd.DataFrame({'zero_count':zeros}, index=col)"
   ],
   "metadata": {
    "collapsed": false,
    "pycharm": {
     "name": "#%%\n"
    }
   }
  },
  {
   "cell_type": "code",
   "execution_count": 194,
   "outputs": [],
   "source": [
    "high_zeros_df = df_zeros_high[df_zeros_high['zero_count']>1000].index"
   ],
   "metadata": {
    "collapsed": false,
    "pycharm": {
     "name": "#%%\n"
    }
   }
  },
  {
   "cell_type": "code",
   "execution_count": 195,
   "outputs": [],
   "source": [
    "for col in high_zeros_df:\n",
    "    df_eng[col] = df_eng[col].fillna(0)"
   ],
   "metadata": {
    "collapsed": false,
    "pycharm": {
     "name": "#%%\n"
    }
   }
  },
  {
   "cell_type": "code",
   "execution_count": 196,
   "outputs": [],
   "source": [
    "df_null_fill = df_eng\n",
    "df_null_fill = df_null_fill.drop(labels='Desc_Cat', axis=1)\n",
    "df_null_update = df_null_fill.isnull().sum()\n",
    "df_null_columns = df_null_update[df_null_update>0].index\n",
    "df_null_fill = df_null_fill.dropna(axis=0)"
   ],
   "metadata": {
    "collapsed": false,
    "pycharm": {
     "name": "#%%\n"
    }
   }
  },
  {
   "cell_type": "code",
   "execution_count": 197,
   "outputs": [
    {
     "data": {
      "text/plain": "Index(['Ash', 'Fiber_TD', 'Sugar_Tot', 'Calcium', 'Iron', 'Magnesium',\n       'Phosphorus', 'Potassium', 'Sodium', 'Zinc', 'Copper', 'Manganese',\n       'Selenium', 'Vit_C', 'Thiamin', 'Riboflavin', 'Niacin', 'Panto_Acid',\n       'Vit_B6', 'Folate_Tot', 'Food_Folate', 'Folate_DFE', 'Choline_Tot',\n       'Vit_B12', 'Vit_A_IU', 'Vit_A_RAE', 'Retinol', 'Vit_E', 'FA_Sat',\n       'FA_Mono', 'FA_Poly', 'Cholestrl'],\n      dtype='object')"
     },
     "execution_count": 197,
     "metadata": {},
     "output_type": "execute_result"
    }
   ],
   "source": [
    "df_null_columns"
   ],
   "metadata": {
    "collapsed": false,
    "pycharm": {
     "name": "#%%\n"
    }
   }
  },
  {
   "cell_type": "code",
   "execution_count": 206,
   "outputs": [],
   "source": [
    "df_prep = df_eng\n",
    "\n",
    "for col in df_null_columns:\n",
    "    df_null_fill[col] = df_null_fill[col].replace('None', pd.NA)\n",
    "    df_x = df_null_fill.drop(labels=col, axis=1)\n",
    "    df_y = df_null_fill[col]\n",
    "    [X, y] = prepareData(df_x, df_y)\n",
    "    X_train, X_test, y_train, y_test = train_test_split(X, y, test_size=0.3, random_state=0)\n",
    "    model_na = xgb.XGBRegressor()\n",
    "    model_na.fit(X_train, y_train)\n",
    "\n",
    "    indices = df_eng[df_eng[col].isnull()].index\n",
    "    df_predict = df_eng[df_eng[col].isnull()]\n",
    "    X_predict = df_predict.drop(labels=[col, 'Desc_Cat'], axis=1).fillna(0).values\n",
    "    predicted = model_na.predict(X_predict)\n",
    "    for x, y in zip(indices, predicted):\n",
    "        if (y > 0) and (y < df_eng[col].max()):\n",
    "            df_prep.loc[x, col] = round(y, 2)\n",
    "        elif y < 0:\n",
    "            df_prep.loc[x, col] = 0\n",
    "        else:\n",
    "            df_prep.loc[x, col] = round(df_eng[col].max(), 2)"
   ],
   "metadata": {
    "collapsed": false,
    "pycharm": {
     "name": "#%%\n"
    }
   }
  },
  {
   "cell_type": "code",
   "execution_count": 209,
   "outputs": [],
   "source": [
    "for col in df_prep:\n",
    "    try:\n",
    "        df_prep[col] = df_prep[col].round(2)\n",
    "    except:\n",
    "        pass"
   ],
   "metadata": {
    "collapsed": false,
    "pycharm": {
     "name": "#%%\n"
    }
   }
  },
  {
   "cell_type": "code",
   "execution_count": 361,
   "outputs": [],
   "source": [
    "df_prep_x = df_prep.drop(labels='Energ_Kcal', axis=1)\n",
    "df_prep_y = df_prep['Energ_Kcal']"
   ],
   "metadata": {
    "collapsed": false,
    "pycharm": {
     "name": "#%%\n"
    }
   }
  },
  {
   "cell_type": "markdown",
   "source": [
    "# Tuning Hyperparameters"
   ],
   "metadata": {
    "collapsed": false,
    "pycharm": {
     "name": "#%% md\n"
    }
   }
  },
  {
   "cell_type": "markdown",
   "source": [
    "### Finding Optimal Early Stopping Rounds"
   ],
   "metadata": {
    "collapsed": false,
    "pycharm": {
     "name": "#%% md\n"
    }
   }
  },
  {
   "cell_type": "code",
   "execution_count": 363,
   "outputs": [],
   "source": [
    "# https://practicaldatascience.co.uk/machine-learning/how-to-avoid-model-overfitting-with-early-stopping-rounds\n",
    "\n",
    "X_train, X_test, y_train, y_test = train_test_split(df_prep_x, df_prep_y, test_size=0.3, random_state=0)"
   ],
   "metadata": {
    "collapsed": false,
    "pycharm": {
     "name": "#%%\n"
    }
   }
  },
  {
   "cell_type": "code",
   "execution_count": 400,
   "outputs": [],
   "source": [
    "model = xgb.XGBRegressor(enable_categorical=True, tree_method='hist', objective='reg:squarederror')\n",
    "\n",
    "eval_set = [(X_train, y_train), (X_test, y_test)]\n",
    "model.fit(X_train,\n",
    "          y_train,\n",
    "          eval_set=eval_set,\n",
    "          verbose=False)\n",
    "results = model.evals_result()"
   ],
   "metadata": {
    "collapsed": false,
    "pycharm": {
     "name": "#%%\n"
    }
   }
  },
  {
   "cell_type": "code",
   "execution_count": 399,
   "outputs": [
    {
     "data": {
      "text/plain": "<Figure size 1490.4x1459.44 with 1 Axes>",
      "image/png": "[encoded data removed]"
     },
     "metadata": {},
     "output_type": "display_data"
    }
   ],
   "source": [
    "epochs = len(results['validation_0']['rmse'])\n",
    "x_axis = range(0, epochs)\n",
    "\n",
    "fig, ax = plt.subplots()\n",
    "ax.plot(x_axis, results['validation_0']['rmse'], label='Train')\n",
    "ax.plot(x_axis, results['validation_1']['rmse'], label='Test')\n",
    "ax.legend()\n",
    "plt.xlabel('Epochs')\n",
    "plt.ylabel('logloss')\n",
    "plt.title('XGBoost learning curve')\n",
    "plt.show()"
   ],
   "metadata": {
    "collapsed": false,
    "pycharm": {
     "name": "#%%\n"
    }
   }
  },
  {
   "cell_type": "markdown",
   "source": [
    "### Tuning Setup"
   ],
   "metadata": {
    "collapsed": false,
    "pycharm": {
     "name": "#%% md\n"
    }
   }
  },
  {
   "cell_type": "code",
   "execution_count": 297,
   "outputs": [],
   "source": [
    "from sklearn.model_selection import train_test_split\n",
    "from sklearn.model_selection import cross_validate\n",
    "from sklearn.model_selection import StratifiedKFold\n",
    "from sklearn.model_selection import GridSearchCV\n",
    "\n",
    "class tuneHyperParams(object):\n",
    "\n",
    "    def __init__(self, model, x_data, y_data, test_size, scoring):\n",
    "        self.model = model\n",
    "        self.x_data = x_data\n",
    "        self.y_data = y_data\n",
    "        self.test_size = test_size\n",
    "        self.scoring = scoring\n",
    "\n",
    "    def getTestTrainData(self):\n",
    "        X_train, X_test, y_train, y_test = train_test_split(self.x_data, self.y_data, test_size=self.test_size, random_state=0)\n",
    "        return X_train, X_test, y_train, y_test\n",
    "\n",
    "    def obtainBestKFolds(self, X_train, y_train, val_range):\n",
    "        df_scores = pd.DataFrame(columns=['kfolds', self.scoring])\n",
    "        for k in val_range:\n",
    "            cv = StratifiedKFold(n_splits=k, random_state=0, shuffle=True)\n",
    "            score = cross_validate(self.model, X_train, y_train, scoring=self.scoring, cv=cv, n_jobs=-1)\n",
    "            score_mean = score['test_score'].mean()\n",
    "            df_scores = pd.concat([df_scores, pd.DataFrame.from_records([{'kfolds':int(k), '{}'.format(self.scoring):score_mean}])], ignore_index=True)\n",
    "        best_value_list = list(df_scores[self.scoring].values)\n",
    "        k_values_list = list(df_scores['kfolds'].values)\n",
    "        best_value = max(best_value_list)\n",
    "        best_index = best_value_list.index(best_value)\n",
    "        kfolds_best = k_values_list[best_index]\n",
    "        return kfolds_best\n",
    "\n",
    "    def tuneModel(self, X, y, kfolds, params_grid):\n",
    "        cv = StratifiedKFold(n_splits=kfolds, random_state=0, shuffle=True)\n",
    "        gsearch = GridSearchCV(estimator=self.model,\n",
    "                                param_grid = params_grid, scoring=self.scoring,n_jobs=-1, cv=cv)\n",
    "        grid_result = gsearch.fit(X, y)\n",
    "        return grid_result"
   ],
   "metadata": {
    "collapsed": false,
    "pycharm": {
     "name": "#%%\n"
    }
   }
  },
  {
   "cell_type": "code",
   "execution_count": 440,
   "outputs": [],
   "source": [
    "def tuneXGBoost(set_params, params_grid, first_time=True, X_train=None, y_train=None, best_k=None):\n",
    "    model = xgb.XGBRegressor(enable_categorical=True, tree_method='hist', n_jobs=-1)\n",
    "    model.set_params(**set_params)\n",
    "\n",
    "    XGB = tuneHyperParams(model, df_prep_x, df_prep_y, 0.3, 'neg_root_mean_squared_error')\n",
    "\n",
    "    if first_time is True:\n",
    "        [X_train, X_test, y_train, y_test] = XGB.getTestTrainData()\n",
    "        best_k = XGB.obtainBestKFolds(X_train, y_train, range(2, 21))\n",
    "        grid_result = XGB.tuneModel(X_train, y_train, best_k, params_grid)\n",
    "        return grid_result, X_train, X_test, y_train, y_test, best_k\n",
    "\n",
    "    elif first_time is False:\n",
    "        grid_result = XGB.tuneModel(X_train, y_train, best_k, params_grid)\n",
    "        return grid_result\n",
    "\n",
    "    else:\n",
    "        grid_result = None\n",
    "        return grid_result"
   ],
   "metadata": {
    "collapsed": false,
    "pycharm": {
     "name": "#%%\n"
    }
   }
  },
  {
   "cell_type": "code",
   "execution_count": 433,
   "outputs": [],
   "source": [
    "import warnings\n",
    "warnings.filterwarnings(\"ignore\")"
   ],
   "metadata": {
    "collapsed": false,
    "pycharm": {
     "name": "#%%\n"
    }
   }
  },
  {
   "cell_type": "markdown",
   "source": [
    "### Tuning 1"
   ],
   "metadata": {
    "collapsed": false,
    "pycharm": {
     "name": "#%% md\n"
    }
   }
  },
  {
   "cell_type": "code",
   "execution_count": 441,
   "outputs": [],
   "source": [
    "params_test1 = {\n",
    "    'max_depth': range(15, 22, 1),\n",
    "}\n",
    "\n",
    "params_set1 = {\n",
    "    'learning_rate': 0.1,\n",
    "    'min_child_weight': 3\n",
    "}\n",
    "\n",
    "[grid_result, X_train, X_test, y_train, y_test, best_k] = tuneXGBoost(params_set1, params_test1)"
   ],
   "metadata": {
    "collapsed": false,
    "pycharm": {
     "name": "#%%\n"
    }
   }
  },
  {
   "cell_type": "code",
   "execution_count": 442,
   "outputs": [
    {
     "name": "stdout",
     "output_type": "stream",
     "text": [
      "{'max_depth': 19}\n",
      "-15.8186011472846\n",
      "4\n"
     ]
    }
   ],
   "source": [
    "print(grid_result.best_params_)\n",
    "print(grid_result.best_score_)\n",
    "print(best_k)"
   ],
   "metadata": {
    "collapsed": false,
    "pycharm": {
     "name": "#%%\n"
    }
   }
  },
  {
   "cell_type": "markdown",
   "source": [
    "### Tuning 2"
   ],
   "metadata": {
    "collapsed": false,
    "pycharm": {
     "name": "#%% md\n"
    }
   }
  },
  {
   "cell_type": "code",
   "execution_count": 443,
   "outputs": [],
   "source": [
    "params_test2 = {\n",
    "    'gamma': range(21,50,2)\n",
    "}\n",
    "params_set2 = {\n",
    "    'learning_rate': 0.1,\n",
    "    'max_depth': 19,\n",
    "    'min_child_weight': 3\n",
    "}\n",
    "\n",
    "grid_result2 = tuneXGBoost(params_set2, params_test2, first_time=False, X_train=X_train, y_train=y_train, best_k=best_k)"
   ],
   "metadata": {
    "collapsed": false,
    "pycharm": {
     "name": "#%%\n"
    }
   }
  },
  {
   "cell_type": "code",
   "execution_count": 444,
   "outputs": [
    {
     "name": "stdout",
     "output_type": "stream",
     "text": [
      "{'gamma': 31}\n",
      "-15.499426992313012\n"
     ]
    }
   ],
   "source": [
    "print(grid_result2.best_params_)\n",
    "print(grid_result2.best_score_)"
   ],
   "metadata": {
    "collapsed": false,
    "pycharm": {
     "name": "#%%\n"
    }
   }
  },
  {
   "cell_type": "markdown",
   "source": [
    "### Tunning 3"
   ],
   "metadata": {
    "collapsed": false,
    "pycharm": {
     "name": "#%% md\n"
    }
   }
  },
  {
   "cell_type": "code",
   "execution_count": 445,
   "outputs": [],
   "source": [
    "params_test3 = {\n",
    "    'subsample': [i/10 for i in range(4, 11, 1)],\n",
    "    'colsample_bytree': [i/10 for i in range(6, 11, 1)]\n",
    "}\n",
    "params_set3 = {\n",
    "    'learning_rate': 0.1,\n",
    "    'max_depth': 16,\n",
    "    'min_child_weight': 3,\n",
    "    'gamma': 31\n",
    "}\n",
    "\n",
    "grid_result3 = tuneXGBoost(params_set3, params_test3, first_time=False, X_train=X_train, y_train=y_train, best_k=best_k)"
   ],
   "metadata": {
    "collapsed": false,
    "pycharm": {
     "name": "#%%\n"
    }
   }
  },
  {
   "cell_type": "code",
   "execution_count": 446,
   "outputs": [
    {
     "name": "stdout",
     "output_type": "stream",
     "text": [
      "{'colsample_bytree': 0.9, 'subsample': 1.0}\n",
      "-15.04034590587358\n"
     ]
    }
   ],
   "source": [
    "print(grid_result3.best_params_)\n",
    "print(grid_result3.best_score_)"
   ],
   "metadata": {
    "collapsed": false,
    "pycharm": {
     "name": "#%%\n"
    }
   }
  },
  {
   "cell_type": "markdown",
   "source": [
    "### Tunning 4"
   ],
   "metadata": {
    "collapsed": false,
    "pycharm": {
     "name": "#%% md\n"
    }
   }
  },
  {
   "cell_type": "code",
   "execution_count": 449,
   "outputs": [],
   "source": [
    "params_test4 = {\n",
    "    'reg_alpha': [0, .01, .02, .03, .04],\n",
    "    'max_bin': [500, 600, 700, 800, 900]\n",
    "}\n",
    "params_set4 = {\n",
    "    'learning_rate': 0.1,\n",
    "    'max_depth': 16,\n",
    "    'min_child_weight': 3,\n",
    "    'gamma': 31,\n",
    "    'colsample_bytree': 0.9,\n",
    "    'subsample': 1.0\n",
    "}\n",
    "\n",
    "grid_result4 = tuneXGBoost(params_set4, params_test4, first_time=False, X_train=X_train, y_train=y_train, best_k=best_k)"
   ],
   "metadata": {
    "collapsed": false,
    "pycharm": {
     "name": "#%%\n"
    }
   }
  },
  {
   "cell_type": "code",
   "execution_count": 450,
   "outputs": [
    {
     "name": "stdout",
     "output_type": "stream",
     "text": [
      "{'max_bin': 600, 'reg_alpha': 0.03}\n",
      "-12.111964201405508\n"
     ]
    }
   ],
   "source": [
    "print(grid_result4.best_params_)\n",
    "print(grid_result4.best_score_)"
   ],
   "metadata": {
    "collapsed": false,
    "pycharm": {
     "name": "#%%\n"
    }
   }
  },
  {
   "cell_type": "markdown",
   "source": [
    "# Final Train and Test"
   ],
   "metadata": {
    "collapsed": false,
    "pycharm": {
     "name": "#%% md\n"
    }
   }
  },
  {
   "cell_type": "code",
   "execution_count": 453,
   "outputs": [
    {
     "data": {
      "text/plain": "XGBRegressor(base_score=0.5, booster='gbtree', callbacks=None,\n             colsample_bylevel=1, colsample_bynode=1, colsample_bytree=0.9,\n             early_stopping_rounds=None, enable_categorical=True,\n             eval_metric=None, gamma=31, gpu_id=-1, grow_policy='depthwise',\n             importance_type=None, interaction_constraints='',\n             learning_rate=0.1, max_bin=600, max_cat_to_onehot=4,\n             max_delta_step=0, max_depth=16, max_leaves=0, min_child_weight=3,\n             missing=nan, monotone_constraints='()', n_estimators=100,\n             n_jobs=-1, num_parallel_tree=1, predictor='auto', random_state=0,\n             reg_alpha=0.03, reg_lambda=1, ...)",
      "text/html": "<style>#sk-container-id-14 {color: black;background-color: white;}#sk-container-id-14 pre{padding: 0;}#sk-container-id-14 div.sk-toggleable {background-color: white;}#sk-container-id-14 label.sk-toggleable__label {cursor: pointer;display: block;width: 100%;margin-bottom: 0;padding: 0.3em;box-sizing: border-box;text-align: center;}#sk-container-id-14 label.sk-toggleable__label-arrow:before {content: \"▸\";float: left;margin-right: 0.25em;color: #696969;}#sk-container-id-14 label.sk-toggleable__label-arrow:hover:before {color: black;}#sk-container-id-14 div.sk-estimator:hover label.sk-toggleable__label-arrow:before {color: black;}#sk-container-id-14 div.sk-toggleable__content {max-height: 0;max-width: 0;overflow: hidden;text-align: left;background-color: #f0f8ff;}#sk-container-id-14 div.sk-toggleable__content pre {margin: 0.2em;color: black;border-radius: 0.25em;background-color: #f0f8ff;}#sk-container-id-14 input.sk-toggleable__control:checked~div.sk-toggleable__content {max-height: 200px;max-width: 100%;overflow: auto;}#sk-container-id-14 input.sk-toggleable__control:checked~label.sk-toggleable__label-arrow:before {content: \"▾\";}#sk-container-id-14 div.sk-estimator input.sk-toggleable__control:checked~label.sk-toggleable__label {background-color: #d4ebff;}#sk-container-id-14 div.sk-label input.sk-toggleable__control:checked~label.sk-toggleable__label {background-color: #d4ebff;}#sk-container-id-14 input.sk-hidden--visually {border: 0;clip: rect(1px 1px 1px 1px);clip: rect(1px, 1px, 1px, 1px);height: 1px;margin: -1px;overflow: hidden;padding: 0;position: absolute;width: 1px;}#sk-container-id-14 div.sk-estimator {font-family: monospace;background-color: #f0f8ff;border: 1px dotted black;border-radius: 0.25em;box-sizing: border-box;margin-bottom: 0.5em;}#sk-container-id-14 div.sk-estimator:hover {background-color: #d4ebff;}#sk-container-id-14 div.sk-parallel-item::after {content: \"\";width: 100%;border-bottom: 1px solid gray;flex-grow: 1;}#sk-container-id-14 div.sk-label:hover label.sk-toggleable__label {background-color: #d4ebff;}#sk-container-id-14 div.sk-serial::before {content: \"\";position: absolute;border-left: 1px solid gray;box-sizing: border-box;top: 0;bottom: 0;left: 50%;z-index: 0;}#sk-container-id-14 div.sk-serial {display: flex;flex-direction: column;align-items: center;background-color: white;padding-right: 0.2em;padding-left: 0.2em;position: relative;}#sk-container-id-14 div.sk-item {position: relative;z-index: 1;}#sk-container-id-14 div.sk-parallel {display: flex;align-items: stretch;justify-content: center;background-color: white;position: relative;}#sk-container-id-14 div.sk-item::before, #sk-container-id-14 div.sk-parallel-item::before {content: \"\";position: absolute;border-left: 1px solid gray;box-sizing: border-box;top: 0;bottom: 0;left: 50%;z-index: -1;}#sk-container-id-14 div.sk-parallel-item {display: flex;flex-direction: column;z-index: 1;position: relative;background-color: white;}#sk-container-id-14 div.sk-parallel-item:first-child::after {align-self: flex-end;width: 50%;}#sk-container-id-14 div.sk-parallel-item:last-child::after {align-self: flex-start;width: 50%;}#sk-container-id-14 div.sk-parallel-item:only-child::after {width: 0;}#sk-container-id-14 div.sk-dashed-wrapped {border: 1px dashed gray;margin: 0 0.4em 0.5em 0.4em;box-sizing: border-box;padding-bottom: 0.4em;background-color: white;}#sk-container-id-14 div.sk-label label {font-family: monospace;font-weight: bold;display: inline-block;line-height: 1.2em;}#sk-container-id-14 div.sk-label-container {text-align: center;}#sk-container-id-14 div.sk-container {/* jupyter's `normalize.less` sets `[hidden] { display: none; }` but bootstrap.min.css set `[hidden] { display: none !important; }` so we also need the `!important` here to be able to override the default hidden behavior on the sphinx rendered scikit-learn.org. See: https://github.com/scikit-learn/scikit-learn/issues/21755 */display: inline-block !important;position: relative;}#sk-container-id-14 div.sk-text-repr-fallback {display: none;}</style><div id=\"sk-container-id-14\" class=\"sk-top-container\"><div class=\"sk-text-repr-fallback\"><pre>XGBRegressor(base_score=0.5, booster=&#x27;gbtree&#x27;, callbacks=None,\n             colsample_bylevel=1, colsample_bynode=1, colsample_bytree=0.9,\n             early_stopping_rounds=None, enable_categorical=True,\n             eval_metric=None, gamma=31, gpu_id=-1, grow_policy=&#x27;depthwise&#x27;,\n             importance_type=None, interaction_constraints=&#x27;&#x27;,\n             learning_rate=0.1, max_bin=600, max_cat_to_onehot=4,\n             max_delta_step=0, max_depth=16, max_leaves=0, min_child_weight=3,\n             missing=nan, monotone_constraints=&#x27;()&#x27;, n_estimators=100,\n             n_jobs=-1, num_parallel_tree=1, predictor=&#x27;auto&#x27;, random_state=0,\n             reg_alpha=0.03, reg_lambda=1, ...)</pre><b>In a Jupyter environment, please rerun this cell to show the HTML representation or trust the notebook. <br />On GitHub, the HTML representation is unable to render, please try loading this page with nbviewer.org.</b></div><div class=\"sk-container\" hidden><div class=\"sk-item\"><div class=\"sk-estimator sk-toggleable\"><input class=\"sk-toggleable__control sk-hidden--visually\" id=\"sk-estimator-id-14\" type=\"checkbox\" checked><label for=\"sk-estimator-id-14\" class=\"sk-toggleable__label sk-toggleable__label-arrow\">XGBRegressor</label><div class=\"sk-toggleable__content\"><pre>XGBRegressor(base_score=0.5, booster=&#x27;gbtree&#x27;, callbacks=None,\n             colsample_bylevel=1, colsample_bynode=1, colsample_bytree=0.9,\n             early_stopping_rounds=None, enable_categorical=True,\n             eval_metric=None, gamma=31, gpu_id=-1, grow_policy=&#x27;depthwise&#x27;,\n             importance_type=None, interaction_constraints=&#x27;&#x27;,\n             learning_rate=0.1, max_bin=600, max_cat_to_onehot=4,\n             max_delta_step=0, max_depth=16, max_leaves=0, min_child_weight=3,\n             missing=nan, monotone_constraints=&#x27;()&#x27;, n_estimators=100,\n             n_jobs=-1, num_parallel_tree=1, predictor=&#x27;auto&#x27;, random_state=0,\n             reg_alpha=0.03, reg_lambda=1, ...)</pre></div></div></div></div></div>"
     },
     "execution_count": 453,
     "metadata": {},
     "output_type": "execute_result"
    }
   ],
   "source": [
    "params_set_F = {\n",
    "    'learning_rate': 0.1,\n",
    "    'max_depth': 16,\n",
    "    'min_child_weight': 3,\n",
    "    'gamma': 31,\n",
    "    'colsample_bytree': 0.9,\n",
    "    'subsample': 1.0,\n",
    "    'max_bin': 600,\n",
    "    'reg_alpha': 0.03\n",
    "}\n",
    "\n",
    "\n",
    "XGB_F = xgb.XGBRegressor(enable_categorical=True, tree_method='hist', n_jobs=-1)\n",
    "XGB_F.set_params(**params_set_F)\n",
    "XGB_F.fit(X_train, y_train)"
   ],
   "metadata": {
    "collapsed": false,
    "pycharm": {
     "name": "#%%\n"
    }
   }
  },
  {
   "cell_type": "code",
   "execution_count": 454,
   "outputs": [
    {
     "ename": "ValueError",
     "evalue": "training data did not have the following fields: Protein, Lipid_Tot, Ash, Carbohydrt, Fiber_TD, Sugar_Tot, Calcium, Iron, Magnesium, Phosphorus, Potassium, Sodium, Zinc, Copper, Manganese, Selenium, Vit_C, Thiamin, Riboflavin, Niacin, Panto_Acid, Vit_B6, Folate_Tot, Folic_Acid, Food_Folate, Folate_DFE, Choline_Tot, Vit_B12, Vit_A_IU, Vit_A_RAE, Retinol, Alpha_Carot, Beta_Carot, Beta_Crypt, Lycopene, Lut+Zea, Vit_E, Vit_D, Vit_D_IU, Vit_K, FA_Sat, FA_Mono, FA_Poly, Cholestrl, Desc_Cat, Water_Flt",
     "output_type": "error",
     "traceback": [
      "\u001B[0;31m---------------------------------------------------------------------------\u001B[0m",
      "\u001B[0;31mValueError\u001B[0m                                Traceback (most recent call last)",
      "Input \u001B[0;32mIn [454]\u001B[0m, in \u001B[0;36m<cell line: 6>\u001B[0;34m()\u001B[0m\n\u001B[1;32m      3\u001B[0m \u001B[38;5;28;01mfrom\u001B[39;00m \u001B[38;5;21;01msklearn\u001B[39;00m\u001B[38;5;21;01m.\u001B[39;00m\u001B[38;5;21;01mmetrics\u001B[39;00m \u001B[38;5;28;01mimport\u001B[39;00m d2_absolute_error_score\n\u001B[1;32m      4\u001B[0m \u001B[38;5;28;01mfrom\u001B[39;00m \u001B[38;5;21;01msklearn\u001B[39;00m\u001B[38;5;21;01m.\u001B[39;00m\u001B[38;5;21;01mmetrics\u001B[39;00m \u001B[38;5;28;01mimport\u001B[39;00m explained_variance_score\n\u001B[0;32m----> 6\u001B[0m yhat \u001B[38;5;241m=\u001B[39m \u001B[43mXGB_F\u001B[49m\u001B[38;5;241;43m.\u001B[39;49m\u001B[43mpredict\u001B[49m\u001B[43m(\u001B[49m\u001B[43my_test\u001B[49m\u001B[43m)\u001B[49m\n\u001B[1;32m      8\u001B[0m r2 \u001B[38;5;241m=\u001B[39m r2_score(y_test, yhat)\n\u001B[1;32m      9\u001B[0m mse \u001B[38;5;241m=\u001B[39m mean_squared_error(y_test, yhat)\n",
      "File \u001B[0;32m~/anaconda3/envs/zotec_assessment/lib/python3.10/site-packages/xgboost/sklearn.py:1071\u001B[0m, in \u001B[0;36mXGBModel.predict\u001B[0;34m(self, X, output_margin, ntree_limit, validate_features, base_margin, iteration_range)\u001B[0m\n\u001B[1;32m   1063\u001B[0m         \u001B[38;5;28;01mpass\u001B[39;00m\n\u001B[1;32m   1065\u001B[0m test \u001B[38;5;241m=\u001B[39m DMatrix(\n\u001B[1;32m   1066\u001B[0m     X, base_margin\u001B[38;5;241m=\u001B[39mbase_margin,\n\u001B[1;32m   1067\u001B[0m     missing\u001B[38;5;241m=\u001B[39m\u001B[38;5;28mself\u001B[39m\u001B[38;5;241m.\u001B[39mmissing,\n\u001B[1;32m   1068\u001B[0m     nthread\u001B[38;5;241m=\u001B[39m\u001B[38;5;28mself\u001B[39m\u001B[38;5;241m.\u001B[39mn_jobs,\n\u001B[1;32m   1069\u001B[0m     enable_categorical\u001B[38;5;241m=\u001B[39m\u001B[38;5;28mself\u001B[39m\u001B[38;5;241m.\u001B[39menable_categorical\n\u001B[1;32m   1070\u001B[0m )\n\u001B[0;32m-> 1071\u001B[0m \u001B[38;5;28;01mreturn\u001B[39;00m \u001B[38;5;28;43mself\u001B[39;49m\u001B[38;5;241;43m.\u001B[39;49m\u001B[43mget_booster\u001B[49m\u001B[43m(\u001B[49m\u001B[43m)\u001B[49m\u001B[38;5;241;43m.\u001B[39;49m\u001B[43mpredict\u001B[49m\u001B[43m(\u001B[49m\n\u001B[1;32m   1072\u001B[0m \u001B[43m    \u001B[49m\u001B[43mdata\u001B[49m\u001B[38;5;241;43m=\u001B[39;49m\u001B[43mtest\u001B[49m\u001B[43m,\u001B[49m\n\u001B[1;32m   1073\u001B[0m \u001B[43m    \u001B[49m\u001B[43miteration_range\u001B[49m\u001B[38;5;241;43m=\u001B[39;49m\u001B[43miteration_range\u001B[49m\u001B[43m,\u001B[49m\n\u001B[1;32m   1074\u001B[0m \u001B[43m    \u001B[49m\u001B[43moutput_margin\u001B[49m\u001B[38;5;241;43m=\u001B[39;49m\u001B[43moutput_margin\u001B[49m\u001B[43m,\u001B[49m\n\u001B[1;32m   1075\u001B[0m \u001B[43m    \u001B[49m\u001B[43mvalidate_features\u001B[49m\u001B[38;5;241;43m=\u001B[39;49m\u001B[43mvalidate_features\u001B[49m\u001B[43m,\u001B[49m\n\u001B[1;32m   1076\u001B[0m \u001B[43m\u001B[49m\u001B[43m)\u001B[49m\n",
      "File \u001B[0;32m~/anaconda3/envs/zotec_assessment/lib/python3.10/site-packages/xgboost/core.py:1952\u001B[0m, in \u001B[0;36mBooster.predict\u001B[0;34m(self, data, output_margin, ntree_limit, pred_leaf, pred_contribs, approx_contribs, pred_interactions, validate_features, training, iteration_range, strict_shape)\u001B[0m\n\u001B[1;32m   1950\u001B[0m     \u001B[38;5;28;01mraise\u001B[39;00m \u001B[38;5;167;01mTypeError\u001B[39;00m(\u001B[38;5;124m'\u001B[39m\u001B[38;5;124mExpecting data to be a DMatrix object, got: \u001B[39m\u001B[38;5;124m'\u001B[39m, \u001B[38;5;28mtype\u001B[39m(data))\n\u001B[1;32m   1951\u001B[0m \u001B[38;5;28;01mif\u001B[39;00m validate_features:\n\u001B[0;32m-> 1952\u001B[0m     \u001B[38;5;28;43mself\u001B[39;49m\u001B[38;5;241;43m.\u001B[39;49m\u001B[43m_validate_features\u001B[49m\u001B[43m(\u001B[49m\u001B[43mdata\u001B[49m\u001B[43m)\u001B[49m\n\u001B[1;32m   1953\u001B[0m iteration_range \u001B[38;5;241m=\u001B[39m _convert_ntree_limit(\u001B[38;5;28mself\u001B[39m, ntree_limit, iteration_range)\n\u001B[1;32m   1954\u001B[0m args \u001B[38;5;241m=\u001B[39m {\n\u001B[1;32m   1955\u001B[0m     \u001B[38;5;124m\"\u001B[39m\u001B[38;5;124mtype\u001B[39m\u001B[38;5;124m\"\u001B[39m: \u001B[38;5;241m0\u001B[39m,\n\u001B[1;32m   1956\u001B[0m     \u001B[38;5;124m\"\u001B[39m\u001B[38;5;124mtraining\u001B[39m\u001B[38;5;124m\"\u001B[39m: training,\n\u001B[0;32m   (...)\u001B[0m\n\u001B[1;32m   1959\u001B[0m     \u001B[38;5;124m\"\u001B[39m\u001B[38;5;124mstrict_shape\u001B[39m\u001B[38;5;124m\"\u001B[39m: strict_shape,\n\u001B[1;32m   1960\u001B[0m }\n",
      "File \u001B[0;32m~/anaconda3/envs/zotec_assessment/lib/python3.10/site-packages/xgboost/core.py:2554\u001B[0m, in \u001B[0;36mBooster._validate_features\u001B[0;34m(self, data)\u001B[0m\n\u001B[1;32m   2552\u001B[0m     \u001B[38;5;28mself\u001B[39m\u001B[38;5;241m.\u001B[39mfeature_types \u001B[38;5;241m=\u001B[39m data\u001B[38;5;241m.\u001B[39mfeature_types\n\u001B[1;32m   2553\u001B[0m \u001B[38;5;28;01mif\u001B[39;00m data\u001B[38;5;241m.\u001B[39mfeature_names \u001B[38;5;129;01mis\u001B[39;00m \u001B[38;5;28;01mNone\u001B[39;00m \u001B[38;5;129;01mand\u001B[39;00m \u001B[38;5;28mself\u001B[39m\u001B[38;5;241m.\u001B[39mfeature_names \u001B[38;5;129;01mis\u001B[39;00m \u001B[38;5;129;01mnot\u001B[39;00m \u001B[38;5;28;01mNone\u001B[39;00m:\n\u001B[0;32m-> 2554\u001B[0m     \u001B[38;5;28;01mraise\u001B[39;00m \u001B[38;5;167;01mValueError\u001B[39;00m(\n\u001B[1;32m   2555\u001B[0m         \u001B[38;5;124m\"\u001B[39m\u001B[38;5;124mtraining data did not have the following fields: \u001B[39m\u001B[38;5;124m\"\u001B[39m \u001B[38;5;241m+\u001B[39m\n\u001B[1;32m   2556\u001B[0m         \u001B[38;5;124m\"\u001B[39m\u001B[38;5;124m, \u001B[39m\u001B[38;5;124m\"\u001B[39m\u001B[38;5;241m.\u001B[39mjoin(\u001B[38;5;28mself\u001B[39m\u001B[38;5;241m.\u001B[39mfeature_names)\n\u001B[1;32m   2557\u001B[0m     )\n\u001B[1;32m   2558\u001B[0m \u001B[38;5;66;03m# Booster can't accept data with different feature names\u001B[39;00m\n\u001B[1;32m   2559\u001B[0m \u001B[38;5;28;01mif\u001B[39;00m \u001B[38;5;28mself\u001B[39m\u001B[38;5;241m.\u001B[39mfeature_names \u001B[38;5;241m!=\u001B[39m data\u001B[38;5;241m.\u001B[39mfeature_names:\n",
      "\u001B[0;31mValueError\u001B[0m: training data did not have the following fields: Protein, Lipid_Tot, Ash, Carbohydrt, Fiber_TD, Sugar_Tot, Calcium, Iron, Magnesium, Phosphorus, Potassium, Sodium, Zinc, Copper, Manganese, Selenium, Vit_C, Thiamin, Riboflavin, Niacin, Panto_Acid, Vit_B6, Folate_Tot, Folic_Acid, Food_Folate, Folate_DFE, Choline_Tot, Vit_B12, Vit_A_IU, Vit_A_RAE, Retinol, Alpha_Carot, Beta_Carot, Beta_Crypt, Lycopene, Lut+Zea, Vit_E, Vit_D, Vit_D_IU, Vit_K, FA_Sat, FA_Mono, FA_Poly, Cholestrl, Desc_Cat, Water_Flt"
     ]
    }
   ],
   "source": [
    "from sklearn.metrics import r2_score\n",
    "from sklearn.metrics import mean_squared_error\n",
    "from sklearn.metrics import d2_absolute_error_score\n",
    "from sklearn.metrics import explained_variance_score\n",
    "\n",
    "yhat = XGB_F.predict(y_test)\n",
    "\n",
    "r2 = r2_score(y_test, yhat)\n",
    "mse = mean_squared_error(y_test, yhat)\n"
   ],
   "metadata": {
    "collapsed": false,
    "pycharm": {
     "name": "#%%\n"
    }
   }
  }
 ],
 "metadata": {
  "kernelspec": {
   "display_name": "Python 3",
   "language": "python",
   "name": "python3"
  },
  "language_info": {
   "codemirror_mode": {
    "name": "ipython",
    "version": 2
   },
   "file_extension": ".py",
   "mimetype": "text/x-python",
   "name": "python",
   "nbconvert_exporter": "python",
   "pygments_lexer": "ipython2",
   "version": "2.7.6"
  }
 },
 "nbformat": 4,
 "nbformat_minor": 0
}